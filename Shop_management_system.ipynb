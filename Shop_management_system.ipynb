{
  "nbformat": 4,
  "nbformat_minor": 0,
  "metadata": {
    "colab": {
      "provenance": [],
      "authorship_tag": "ABX9TyOYUlSFdkg5XQUqhOwiaUtz",
      "include_colab_link": true
    },
    "kernelspec": {
      "name": "python3",
      "display_name": "Python 3"
    },
    "language_info": {
      "name": "python"
    }
  },
  "cells": [
    {
      "cell_type": "markdown",
      "metadata": {
        "id": "view-in-github",
        "colab_type": "text"
      },
      "source": [
        "<a href=\"https://colab.research.google.com/github/sumitjoshi77/Shop-Management-System/blob/main/Shop_management_system.ipynb\" target=\"_parent\"><img src=\"https://colab.research.google.com/assets/colab-badge.svg\" alt=\"Open In Colab\"/></a>"
      ]
    },
    {
      "cell_type": "code",
      "execution_count": 1,
      "metadata": {
        "id": "3KIFwEqdE-dm"
      },
      "outputs": [],
      "source": [
        "import pandas as pd\n",
        "import numpy as np"
      ]
    },
    {
      "cell_type": "code",
      "source": [
        "#Usecase-1 Load all three csv datasets in Pandas Data frames and display first 5 records."
      ],
      "metadata": {
        "id": "OGZhKtyKHsTv"
      },
      "execution_count": null,
      "outputs": []
    },
    {
      "cell_type": "code",
      "source": [
        "customers = pd.read_csv('customers.csv', header=None)\n",
        "customers.columns = [\"customerno\",\"firstname\",\"lastname\",\"gender\",\"age\",\"profession\",\"contactno\",\"emailid\",\"city\",\"state\",\"isactive\",\"createddata\",\"updateddata\"] "
      ],
      "metadata": {
        "id": "a35xN6X28PCB"
      },
      "execution_count": 2,
      "outputs": []
    },
    {
      "cell_type": "code",
      "source": [
        "coloum_name = [\"productno\",\"product name\",\"discription\",\"isactive\",\"createddata\",\"updateddata\"]\n",
        "products = pd.read_csv('products.csv',names = coloum_name)\n",
        "products.columns = coloum_name"
      ],
      "metadata": {
        "id": "4GzReYLhFOau"
      },
      "execution_count": 3,
      "outputs": []
    },
    {
      "cell_type": "code",
      "source": [
        "coloum_name = [\"transaction no\",\"transaction date\",\"customerno\",\"amount\",\"productno\",\"spendby\"]\n",
        "transactions = pd.read_csv('/content/transactions.csv',names = coloum_name)\n",
        "transactions.columns = coloum_name"
      ],
      "metadata": {
        "id": "-uHC2y8SFiSv"
      },
      "execution_count": 9,
      "outputs": []
    },
    {
      "cell_type": "code",
      "source": [
        "\n",
        "print(customers.head())\n"
      ],
      "metadata": {
        "id": "T5YBJvpRDhTd",
        "colab": {
          "base_uri": "https://localhost:8080/"
        },
        "outputId": "aecaf63e-cbb2-46aa-a326-034034bd2d6c"
      },
      "execution_count": 4,
      "outputs": [
        {
          "output_type": "stream",
          "name": "stdout",
          "text": [
            "   customerno firstname lastname gender  age profession  contactno  \\\n",
            "0           1    Leslie     Bass      F   27          B      37307   \n",
            "1           2      Judy    Burks      M   53          S      84759   \n",
            "2           3    Marsha    Doyle      F   48          B      80932   \n",
            "3           4    Alexis   Battle      M   27          S      71701   \n",
            "4           5    Martha    Combs      F   49          B      83947   \n",
            "\n",
            "                  emailid     city      state isactive          createddata  \\\n",
            "0  endslost@everyma1l.org   Gibson   Dellwood        Y  2017-09-21 12:38:22   \n",
            "1  rfleming@hotma1l.co.uk  Suwanee     Trabue        Y  2017-05-22 05:29:22   \n",
            "2    arethe53@ma1lbox.net    Perry  Moxadarla        Y  2017-09-03 12:11:29   \n",
            "3      ofcame@ma1lbox.org   Morven     Dennis        Y  2017-02-16 04:05:35   \n",
            "4   camedied@everyma1l.us   Ocilla  Greenwood        Y  2017-05-15 07:34:35   \n",
            "\n",
            "           updateddata  \n",
            "0  2017-10-18 12:12:28  \n",
            "1  2017-10-18 12:12:28  \n",
            "2  2017-10-18 12:12:28  \n",
            "3  2017-10-18 12:12:28  \n",
            "4  2017-10-18 12:12:28  \n"
          ]
        }
      ]
    },
    {
      "cell_type": "code",
      "source": [
        "print(products.head())"
      ],
      "metadata": {
        "id": "IhWrY36PDh18",
        "colab": {
          "base_uri": "https://localhost:8080/"
        },
        "outputId": "04025ed8-5f58-478d-86db-85e7fa73feef"
      },
      "execution_count": 5,
      "outputs": [
        {
          "output_type": "stream",
          "name": "stdout",
          "text": [
            "   productno product name discription isactive       createddata  \\\n",
            "0          1     Product1  pgqorighfa        Y  03-04-2017 07:58   \n",
            "1          2     Product2  lmndaaweth        Y  21-09-2017 12:38   \n",
            "2          3     Product3  urifeubrhh        Y  08-09-2017 10:32   \n",
            "3          4     Product4  rlpcjxfarp        Y  22-05-2017 05:29   \n",
            "4          5     Product5  hzcpozsgfc        Y  02-02-2017 08:40   \n",
            "\n",
            "        updateddata  \n",
            "0  18-10-2017 12:12  \n",
            "1  18-10-2017 12:12  \n",
            "2  18-10-2017 12:12  \n",
            "3  18-10-2017 12:12  \n",
            "4  18-10-2017 12:12  \n"
          ]
        }
      ]
    },
    {
      "cell_type": "code",
      "source": [
        "print(transactions.head())"
      ],
      "metadata": {
        "id": "jppvqKIJDnl-",
        "colab": {
          "base_uri": "https://localhost:8080/"
        },
        "outputId": "b0579f57-af44-4c77-b35f-706e1c9ddb9e"
      },
      "execution_count": 10,
      "outputs": [
        {
          "output_type": "stream",
          "name": "stdout",
          "text": [
            "   transaction no  transaction date  customerno  amount  productno spendby\n",
            "0               1  18-10-2017 12:31         923    2559        376    Card\n",
            "1               2  18-10-2017 12:31         219    1706        151    Card\n",
            "2               3  18-10-2017 12:31         927    3462        707    Cash\n",
            "3               4  18-10-2017 12:31         806     865        539    Card\n",
            "4               5  18-10-2017 12:31         958    2494         25    Card\n"
          ]
        }
      ]
    },
    {
      "cell_type": "code",
      "source": [
        "#Usecase-2 Display only those customers from CSV_s1, who purchased more than 3 products"
      ],
      "metadata": {
        "id": "wbpNUR_7DrH0"
      },
      "execution_count": null,
      "outputs": []
    },
    {
      "cell_type": "code",
      "source": [
        "\n",
        "x = pd.merge(products,transactions,on=['productno'])\n",
        "y = pd.merge(customers,x,on=['customerno'])\n",
        "print(y)\n",
        "\n",
        "x = y.drop_duplicates(['customerno','productno'])\n",
        "dict1 = dict(x['customerno'].value_counts())\n",
        "df = pd.DataFrame([[i] for i in dict1],columns=['customerno'])\n",
        "df['count'] = df['customerno'].map(dict1)\n",
        "xyz = df[df['count'] >3]\n",
        "print(xyz)"
      ],
      "metadata": {
        "id": "mNmxzt3MHn8C",
        "colab": {
          "base_uri": "https://localhost:8080/"
        },
        "outputId": "2269dd35-9d9b-444e-d4c7-25ec3dfc7339"
      },
      "execution_count": 11,
      "outputs": [
        {
          "output_type": "stream",
          "name": "stdout",
          "text": [
            "     customerno firstname  lastname gender  age profession  contactno  \\\n",
            "0             2      Judy     Burks      M   53          S      84759   \n",
            "1             2      Judy     Burks      M   53          S      84759   \n",
            "2             3    Marsha     Doyle      F   48          B      80932   \n",
            "3             4    Alexis    Battle      M   27          S      71701   \n",
            "4             4    Alexis    Battle      M   27          S      71701   \n",
            "..          ...       ...       ...    ...  ...        ...        ...   \n",
            "995         964     Jared  McDowell      M   57          S      81891   \n",
            "996         965      Rita    Bender      F   46          B      57356   \n",
            "997         965      Rita    Bender      F   46          B      57356   \n",
            "998         966     Myron     Blake      M   46          S      82675   \n",
            "999         967      Tina   Sargent      F   60          B      32097   \n",
            "\n",
            "                          emailid        city        state  ... productno  \\\n",
            "0          rfleming@hotma1l.co.uk     Suwanee       Trabue  ...       136   \n",
            "1          rfleming@hotma1l.co.uk     Suwanee       Trabue  ...       842   \n",
            "2            arethe53@ma1lbox.net       Perry    Moxadarla  ...       345   \n",
            "3              ofcame@ma1lbox.org      Morven       Dennis  ...       144   \n",
            "4              ofcame@ma1lbox.org      Morven       Dennis  ...       548   \n",
            "..                            ...         ...          ...  ...       ...   \n",
            "995    rescueship@everyma1l.co.uk    Glenwood  Billingsley  ...       144   \n",
            "996             itlost@ma1l2u.biz     Austell     Wheeling  ...       770   \n",
            "997             itlost@ma1l2u.biz     Austell     Wheeling  ...       893   \n",
            "998  librarysmoke@everyma1l.co.uk    Sycamore         Gant  ...        51   \n",
            "999          mhanson@somema1l.com  Blackshear        Traci  ...       962   \n",
            "\n",
            "    product name discription  isactive_y     createddata_y     updateddata_y  \\\n",
            "0     Product136  ecfldqedud           Y  29-01-2017 04:02  18-10-2017 12:12   \n",
            "1     Product842  pjcpkksaav           Y  09-08-2017 01:24  18-10-2017 12:12   \n",
            "2     Product345  trrctekfal           Y  17-06-2017 10:38  18-10-2017 12:12   \n",
            "3     Product144  vzibyompll           Y  07-02-2017 07:43  18-10-2017 12:12   \n",
            "4     Product548  wtxnnxgbia           Y  22-01-2017 12:24  18-10-2017 12:12   \n",
            "..           ...         ...         ...               ...               ...   \n",
            "995   Product144  vzibyompll           Y  07-02-2017 07:43  18-10-2017 12:12   \n",
            "996   Product770  xfqvudibgj           Y  22-09-2017 01:59  18-10-2017 12:12   \n",
            "997   Product893  pvaqivhklu           Y  25-02-2017 06:21  18-10-2017 12:12   \n",
            "998    Product51  iclqvipjvz           Y  06-02-2017 08:43  18-10-2017 12:12   \n",
            "999   Product962  omvcejeazp           Y  17-09-2017 01:47  18-10-2017 12:12   \n",
            "\n",
            "    transaction no  transaction date amount  spendby  \n",
            "0              423  18-10-2017 12:31   4245     Cash  \n",
            "1              973  18-10-2017 12:31   4717     Card  \n",
            "2              146  18-10-2017 12:31   1730     Card  \n",
            "3              620  18-10-2017 12:31   3926     Card  \n",
            "4              990  18-10-2017 12:31   1892     Cash  \n",
            "..             ...               ...    ...      ...  \n",
            "995             81  18-10-2017 12:31   3776     Cash  \n",
            "996            753  18-10-2017 12:31   1021     Cash  \n",
            "997            697  18-10-2017 12:31    817     Card  \n",
            "998            841  18-10-2017 12:31   4565     Card  \n",
            "999             40  18-10-2017 12:31   1260     Card  \n",
            "\n",
            "[1000 rows x 23 columns]\n",
            "    customerno  count\n",
            "0          391      5\n",
            "1          241      5\n",
            "2          167      4\n",
            "3           86      4\n",
            "4          326      4\n",
            "5          321      4\n",
            "6          356      4\n",
            "7          237      4\n",
            "8          537      4\n",
            "9          558      4\n",
            "10         578      4\n",
            "11         187      4\n",
            "12         709      4\n",
            "13         735      4\n",
            "14         753      4\n",
            "15         828      4\n",
            "16         331      4\n",
            "17           4      4\n",
            "18         989      4\n"
          ]
        }
      ]
    },
    {
      "cell_type": "code",
      "source": [
        "#Usecase-3 Display top 5 most demanded products from CSV_"
      ],
      "metadata": {
        "id": "Ov6T9F3iI9xg"
      },
      "execution_count": 12,
      "outputs": []
    },
    {
      "cell_type": "code",
      "source": [
        "\n",
        "print(y.groupby(\"productno\")[\"product name\"].count().sort_values(ascending=[False]).head())"
      ],
      "metadata": {
        "id": "CjfW2lffJfOT",
        "colab": {
          "base_uri": "https://localhost:8080/"
        },
        "outputId": "527d5846-e456-4133-c012-6645362a9200"
      },
      "execution_count": 13,
      "outputs": [
        {
          "output_type": "stream",
          "name": "stdout",
          "text": [
            "productno\n",
            "82     5\n",
            "768    5\n",
            "900    5\n",
            "427    5\n",
            "233    4\n",
            "Name: product name, dtype: int64\n"
          ]
        }
      ]
    },
    {
      "cell_type": "code",
      "source": [
        "#Usecase-4 Display top 5 transactions amount from CSV_s1"
      ],
      "metadata": {
        "id": "-5as66f6MT63"
      },
      "execution_count": 16,
      "outputs": []
    },
    {
      "cell_type": "code",
      "source": [
        "print(y['amount'].sort_values(ascending=[False]).head())"
      ],
      "metadata": {
        "id": "UqwA0YmaNEEz",
        "colab": {
          "base_uri": "https://localhost:8080/"
        },
        "outputId": "de00bf0e-fd74-44fa-b429-30a920d65996"
      },
      "execution_count": 18,
      "outputs": [
        {
          "output_type": "stream",
          "name": "stdout",
          "text": [
            "669    4996\n",
            "440    4992\n",
            "285    4981\n",
            "212    4980\n",
            "276    4966\n",
            "Name: amount, dtype: int64\n"
          ]
        }
      ]
    },
    {
      "cell_type": "code",
      "source": [
        "#Usecase-5 Display distinct professions from CSV_s1"
      ],
      "metadata": {
        "id": "ZYD43bNBOAyr"
      },
      "execution_count": 19,
      "outputs": []
    },
    {
      "cell_type": "code",
      "source": [
        "print(customers[\"profession\"].unique())"
      ],
      "metadata": {
        "id": "ZTMXxisnOELt",
        "colab": {
          "base_uri": "https://localhost:8080/"
        },
        "outputId": "a9cd66c4-3308-4726-d5d8-cd522a3e9952"
      },
      "execution_count": 20,
      "outputs": [
        {
          "output_type": "stream",
          "name": "stdout",
          "text": [
            "['B' 'S']\n"
          ]
        }
      ]
    },
    {
      "cell_type": "code",
      "source": [
        "#Usecase-6 Display highest age in CSV_s1 customer’s dataset"
      ],
      "metadata": {
        "id": "eMfAeIeEOSh-"
      },
      "execution_count": 21,
      "outputs": []
    },
    {
      "cell_type": "code",
      "source": [
        "print(x['age'].max())"
      ],
      "metadata": {
        "id": "WML4QFHdOfK9",
        "colab": {
          "base_uri": "https://localhost:8080/"
        },
        "outputId": "c10b952e-6f6c-45d7-ae1f-6929c802de5d"
      },
      "execution_count": 22,
      "outputs": [
        {
          "output_type": "stream",
          "name": "stdout",
          "text": [
            "64\n"
          ]
        }
      ]
    },
    {
      "cell_type": "code",
      "source": [
        "#Usecase-7 Display custno, gender, age, profession, contactno, productno, productName,txndate, spendby, amount from CSV_s1 for custno =923"
      ],
      "metadata": {
        "id": "7ULyvkcOOpZb"
      },
      "execution_count": 23,
      "outputs": []
    },
    {
      "cell_type": "code",
      "source": [
        "print(x.loc[x[\"customerno\"]==923,[\"customerno\",\"gender\",\"age\",\"profession\",\"contactno\",\"productno\",\"product name\",\"transaction date\",\"spendby\",\"amount\"]])"
      ],
      "metadata": {
        "id": "cpwD-pd0OqSG",
        "colab": {
          "base_uri": "https://localhost:8080/"
        },
        "outputId": "b8635895-eb23-4202-c07d-89f31b3d35c5"
      },
      "execution_count": 24,
      "outputs": [
        {
          "output_type": "stream",
          "name": "stdout",
          "text": [
            "     customerno gender  age profession  contactno  productno product name  \\\n",
            "929         923      F   46          B      25436        113   Product113   \n",
            "930         923      F   46          B      25436        376   Product376   \n",
            "931         923      F   46          B      25436        644   Product644   \n",
            "\n",
            "     transaction date spendby  amount  \n",
            "929  18-10-2017 12:31    Card    2303  \n",
            "930  18-10-2017 12:31    Card    2559  \n",
            "931  18-10-2017 12:31    Cash    4553  \n"
          ]
        }
      ]
    },
    {
      "cell_type": "code",
      "source": [
        "#Load all three PSV (pipe separated values) dataset in Pandas Data frames and display first 5 records"
      ],
      "metadata": {
        "id": "8cgZpeJ2PVW4"
      },
      "execution_count": 25,
      "outputs": []
    },
    {
      "cell_type": "code",
      "source": [
        " \n",
        "f = open(\"customers.txt\", \"r\", )\n",
        "line= 5\n",
        "for x in range(line):\n",
        "    a = f.readline()\n",
        "    print(a)\n",
        "\n",
        "\n",
        "print(\"--------------------\")\n",
        "\n",
        "\n",
        "f = open(\"customers.txt\", \"r\")\n",
        "line= 5\n",
        "for x in range(line):\n",
        "    b = f.readline()\n",
        "    print(b)\n",
        "\n",
        "\n",
        "print(\"--------------------\")\n",
        "\n",
        "\n",
        "f = open(\"transactions.txt\", \"r\")\n",
        "line= 5\n",
        "for x in range(line):\n",
        "    c = f.readline()\n",
        "    print(c)"
      ],
      "metadata": {
        "id": "apDLDp-WiAdM",
        "colab": {
          "base_uri": "https://localhost:8080/"
        },
        "outputId": "6ae3789e-6aa6-4ddb-ed01-f583a15ab911"
      },
      "execution_count": 26,
      "outputs": [
        {
          "output_type": "stream",
          "name": "stdout",
          "text": [
            "1|Leslie|Bass|F|27|B|37307|endslost@everyma1l.org|Gibson|Dellwood|Y|2017-09-21 12:38:22|2017-10-18 12:12:28\n",
            "\n",
            "2|Judy|Burks|M|53|S|84759|rfleming@hotma1l.co.uk|Suwanee|Trabue|Y|2017-05-22 05:29:22|2017-10-18 12:12:28\n",
            "\n",
            "3|Marsha|Doyle|F|48|B|80932|arethe53@ma1lbox.net|Perry|Moxadarla|Y|2017-09-03 12:11:29|2017-10-18 12:12:28\n",
            "\n",
            "4|Alexis|Battle|M|27|S|71701|ofcame@ma1lbox.org|Morven|Dennis|Y|2017-02-16 04:05:35|2017-10-18 12:12:28\n",
            "\n",
            "5|Martha|Combs|F|49|B|83947|camedied@everyma1l.us|Ocilla|Greenwood|Y|2017-05-15 07:34:35|2017-10-18 12:12:28\n",
            "\n",
            "--------------------\n",
            "1|Leslie|Bass|F|27|B|37307|endslost@everyma1l.org|Gibson|Dellwood|Y|2017-09-21 12:38:22|2017-10-18 12:12:28\n",
            "\n",
            "2|Judy|Burks|M|53|S|84759|rfleming@hotma1l.co.uk|Suwanee|Trabue|Y|2017-05-22 05:29:22|2017-10-18 12:12:28\n",
            "\n",
            "3|Marsha|Doyle|F|48|B|80932|arethe53@ma1lbox.net|Perry|Moxadarla|Y|2017-09-03 12:11:29|2017-10-18 12:12:28\n",
            "\n",
            "4|Alexis|Battle|M|27|S|71701|ofcame@ma1lbox.org|Morven|Dennis|Y|2017-02-16 04:05:35|2017-10-18 12:12:28\n",
            "\n",
            "5|Martha|Combs|F|49|B|83947|camedied@everyma1l.us|Ocilla|Greenwood|Y|2017-05-15 07:34:35|2017-10-18 12:12:28\n",
            "\n",
            "--------------------\n",
            "1|2017-10-18 12:31:45|923|2559|376|Card\n",
            "\n",
            "2|2017-10-18 12:31:45|219|1706|151|Card\n",
            "\n",
            "3|2017-10-18 12:31:45|927|3462|707|Cash\n",
            "\n",
            "4|2017-10-18 12:31:45|806|865|539|Card\n",
            "\n",
            "5|2017-10-18 12:31:45|958|2494|25|Card\n",
            "\n"
          ]
        }
      ]
    },
    {
      "cell_type": "code",
      "source": [
        "# Load all three JSON datasets in Pandas Data frames and display first 5 records."
      ],
      "metadata": {
        "id": "VwWJBlK1lHBX"
      },
      "execution_count": 27,
      "outputs": []
    },
    {
      "cell_type": "code",
      "source": [
        "data_df=pd.read_json('customers.json', lines=True)\n",
        "print(data_df.head(5))\n",
        "\n",
        "print(\"   ------------------- \")\n",
        "\n",
        "data_df=pd.read_json('products.json', lines=True)\n",
        "print(data_df.head(5))\n",
        "\n",
        "print(\"   ------------------- \")\n",
        "\n",
        "data_df=pd.read_json('transactions.json', lines=True)\n",
        "print(data_df.head(5))\n"
      ],
      "metadata": {
        "id": "ni5hkgijnbJ1",
        "colab": {
          "base_uri": "https://localhost:8080/"
        },
        "outputId": "fee1b73e-39d0-4b9d-b2e7-909e8ef8b56c"
      },
      "execution_count": 28,
      "outputs": [
        {
          "output_type": "stream",
          "name": "stdout",
          "text": [
            "   custno  firstname lastname  gender  age          profession      contactNo  \\\n",
            "0       1        Dai    Noble       2   53     Human Resources  1644101928099   \n",
            "1       2        Kay     Wise       2   26    Public Relations  1674031917099   \n",
            "2       3       Amir     Pace       1   43  Customer Relations  1636050509999   \n",
            "3       4  Sebastian    Lopez       2   32  Customer Relations  1666010108899   \n",
            "4       5      Brian   Maddox       1   40   Quality Assurance  1646080399299   \n",
            "\n",
            "                        emailId             city       state  isActive  \\\n",
            "0  eu.lacus.Quisque@loremac.com           Berlin      Berlin         1   \n",
            "1          ridiculus@Sednunc.ca        Oldenzaal  Overijssel         2   \n",
            "2    quam.Pellentesque@erat.edu          Cobourg     Ontario         2   \n",
            "3           magna@venenatis.net       Te Awamutu          NI         1   \n",
            "4         ac.facilisis@Duis.com  Greater Sudbury     Ontario         2   \n",
            "\n",
            "  createdDate UpdatedDate  \n",
            "0  2017-03-01  2018-08-25  \n",
            "1  2017-04-10  2018-08-30  \n",
            "2  2017-03-04  2018-09-18  \n",
            "3  2016-12-17  2018-09-12  \n",
            "4  2017-02-18  2018-05-13  \n",
            "   ------------------- \n",
            "   productno     productName Description  isActive createdDate UpdatedDate\n",
            "0        100        Vauxhall        four         2  2016-11-21  2017-11-09\n",
            "1        101          Toyota         six         2  2017-10-03  2017-11-13\n",
            "2        102  General Motors         two         1  2017-09-18  2017-11-03\n",
            "3        103         Renault       eight         2  2017-10-05  2017-11-13\n",
            "4        104        Kenworth       three         1  2017-05-03  2017-11-04\n",
            "   ------------------- \n",
            "   txnno     txndate  custno  amount  productno  spendby\n",
            "0      1  2018-07-31      71     181         19        2\n",
            "1      2  2017-04-02      44     401         48        2\n",
            "2      3  2018-01-31      45    1808         44        2\n",
            "3      4  2018-04-02      62      65         22        2\n",
            "4      5  2017-08-17      88    1149         74        2\n"
          ]
        }
      ]
    },
    {
      "cell_type": "code",
      "source": [
        "#Load all three XML datasets in Pandas Data frames and display first 5 records."
      ],
      "metadata": {
        "id": "On41xIvipR5D"
      },
      "execution_count": 29,
      "outputs": []
    },
    {
      "cell_type": "code",
      "source": [
        "import xml.etree.ElementTree as ET\n",
        "customers = ET.parse('customers.xml')\n",
        "count = customers.getroot()\n",
        "\n",
        "import xml.etree.ElementTree as ET\n",
        "products = ET.parse('products.xml')\n",
        "quality = products.getroot()\n",
        "\n",
        "import xml.etree.ElementTree as ET\n",
        "transactions = ET.parse('transactions.xml')\n",
        "data = transactions.getroot()"
      ],
      "metadata": {
        "id": "pwvqEMDetuNT"
      },
      "execution_count": 30,
      "outputs": []
    },
    {
      "cell_type": "code",
      "source": [
        "print(count[0:5])"
      ],
      "metadata": {
        "id": "Yt8M3soTvY5G",
        "colab": {
          "base_uri": "https://localhost:8080/"
        },
        "outputId": "b9395a31-15b4-4d08-995f-e8a2641ba530"
      },
      "execution_count": 31,
      "outputs": [
        {
          "output_type": "stream",
          "name": "stdout",
          "text": [
            "[<Element 'customer' at 0x7eff93a99630>, <Element 'customer' at 0x7eff93aa1c70>, <Element 'customer' at 0x7eff93aa31d0>, <Element 'customer' at 0x7eff93aa36d0>, <Element 'customer' at 0x7eff93aa3b80>]\n"
          ]
        }
      ]
    },
    {
      "cell_type": "code",
      "source": [
        "print(quality[0:5])"
      ],
      "metadata": {
        "id": "pdHbY-yTxp48",
        "colab": {
          "base_uri": "https://localhost:8080/"
        },
        "outputId": "0368be20-faf4-4a34-f9d7-cb811f5f4ead"
      },
      "execution_count": 32,
      "outputs": [
        {
          "output_type": "stream",
          "name": "stdout",
          "text": [
            "[<Element 'product' at 0x7eff93a45400>, <Element 'product' at 0x7eff93a45680>, <Element 'product' at 0x7eff93a458b0>, <Element 'product' at 0x7eff93a45ae0>, <Element 'product' at 0x7eff93a45d10>]\n"
          ]
        }
      ]
    },
    {
      "cell_type": "code",
      "source": [
        "\n",
        "print(data[0:5])"
      ],
      "metadata": {
        "id": "fx3hHfCGxuui",
        "colab": {
          "base_uri": "https://localhost:8080/"
        },
        "outputId": "39b04d34-d3dd-462d-aed6-6de39e61c71d"
      },
      "execution_count": 33,
      "outputs": [
        {
          "output_type": "stream",
          "name": "stdout",
          "text": [
            "[<Element 'transaction' at 0x7eff93a5b630>, <Element 'transaction' at 0x7eff93a5b860>, <Element 'transaction' at 0x7eff93a5ba90>, <Element 'transaction' at 0x7eff93a5bcc0>, <Element 'transaction' at 0x7eff93a5bef0>]\n"
          ]
        }
      ]
    },
    {
      "cell_type": "code",
      "source": [],
      "metadata": {
        "id": "yWn_qshp6BCx"
      },
      "execution_count": 33,
      "outputs": []
    }
  ]
}